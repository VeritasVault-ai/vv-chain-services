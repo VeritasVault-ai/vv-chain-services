{
 "cells": [
  {
   "cell_type": "code",
   "id": "initial_id",
   "metadata": {
    "collapsed": true,
    "ExecuteTime": {
     "end_time": "2025-05-11T14:04:24.346747Z",
     "start_time": "2025-05-11T13:43:00.600536Z"
    }
   },
   "source": [
    "import numpy as np\n",
    "import pandas as pd\n",
    "import yfinance as yf\n",
    "from pypfopt.black_litterman import BlackLittermanModel, market_implied_risk_aversion\n",
    "from pypfopt import risk_models, expected_returns\n",
    "from pypfopt.efficient_frontier import EfficientFrontier\n",
    "import matplotlib.pyplot as plt\n",
    "\n",
    "# Load sample data\n",
    "tickers = [\"AAPL\", \"MSFT\", \"GOOG\", \"AMZN\"]\n",
    "data = yf.download(tickers, start=\"2020-01-01\", end=\"2024-01-01\")['Close']\n",
    "\n",
    "# Calculate historical returns and covariance\n",
    "mu = expected_returns.mean_historical_return(data)\n",
    "S = risk_models.sample_cov(data)\n",
    "\n",
    "# Step 1: Compute equilibrium market returns (CAPM-implied)\n",
    "market_caps = np.array([2.5e12, 2.3e12, 1.5e12, 1.8e12])  # Example market caps\n",
    "mcaps_series = pd.Series(market_caps, index=tickers)\n",
    "delta = market_implied_risk_aversion(data.iloc[-1])  # ~2.5–3 by default\n",
    "prior = delta * S @ mcaps_series / mcaps_series.sum()\n",
    "\n",
    "# Step 2: Create non-ML views (simple momentum + valuation signals)\n",
    "momentum = data.pct_change(90).iloc[-1]  # 3-month momentum\n",
    "valuation = 1 / mu  # crude valuation proxy: inverse historical return\n",
    "\n",
    "# Combine into views\n",
    "views = 0.5 * momentum + 0.5 * valuation\n",
    "views = views / np.linalg.norm(views) * 0.05  # scale to ~5% target return\n",
    "\n",
    "# Create uncertainty (more signal → lower variance)\n",
    "confidence = np.abs(views) / views.abs().max()\n",
    "omega = np.diag((1 - confidence + 0.05))  # add small floor for stability\n",
    "\n",
    "# Step 3: Apply Black-Litterman model\n",
    "bl = BlackLittermanModel(S, pi=prior, absolute_views=views, omega=omega)\n",
    "bl_return = bl.bl_returns()\n",
    "bl_cov = bl.bl_cov()\n",
    "\n",
    "# Step 4: Get portfolio weights\n",
    "ef = EfficientFrontier(bl_return, bl_cov)\n",
    "weights = ef.max_sharpe()\n",
    "cleaned_weights = ef.clean_weights()\n",
    "\n",
    "print(\"\\nOptimal Weights (Black-Litterman):\")\n",
    "print(cleaned_weights)\n",
    "\n",
    "# Plot portfolio allocation\n",
    "plt.bar(cleaned_weights.keys(), cleaned_weights.values())\n",
    "plt.title(\"Black-Litterman Optimal Portfolio\")\n",
    "plt.ylabel(\"Weight\")\n",
    "plt.show()\n"
   ],
   "outputs": [
    {
     "name": "stderr",
     "output_type": "stream",
     "text": [
      "[*********************100%***********************]  4 of 4 completed\n"
     ]
    },
    {
     "ename": "KeyboardInterrupt",
     "evalue": "",
     "output_type": "error",
     "traceback": [
      "\u001B[31m---------------------------------------------------------------------------\u001B[39m",
      "\u001B[31mKeyboardInterrupt\u001B[39m                         Traceback (most recent call last)",
      "\u001B[36mCell\u001B[39m\u001B[36m \u001B[39m\u001B[32mIn[2]\u001B[39m\u001B[32m, line 32\u001B[39m\n\u001B[32m     29\u001B[39m views = views / np.linalg.norm(views) * \u001B[32m0.05\u001B[39m  \u001B[38;5;66;03m# scale to ~5% target return\u001B[39;00m\n\u001B[32m     31\u001B[39m \u001B[38;5;66;03m# Create uncertainty (more signal → lower variance)\u001B[39;00m\n\u001B[32m---> \u001B[39m\u001B[32m32\u001B[39m confidence = \u001B[43mnp\u001B[49m.abs(views) / views.abs().max()\n\u001B[32m     33\u001B[39m omega = np.diag((\u001B[32m1\u001B[39m - confidence + \u001B[32m0.05\u001B[39m))  \u001B[38;5;66;03m# add small floor for stability\u001B[39;00m\n\u001B[32m     35\u001B[39m \u001B[38;5;66;03m# Step 3: Apply Black-Litterman model\u001B[39;00m\n",
      "\u001B[36mFile \u001B[39m\u001B[32m_pydevd_bundle\\\\pydevd_cython_win32_312_64.pyx:1187\u001B[39m, in \u001B[36m_pydevd_bundle.pydevd_cython_win32_312_64.SafeCallWrapper.__call__\u001B[39m\u001B[34m()\u001B[39m\n",
      "\u001B[36mFile \u001B[39m\u001B[32m_pydevd_bundle\\\\pydevd_cython_win32_312_64.pyx:627\u001B[39m, in \u001B[36m_pydevd_bundle.pydevd_cython_win32_312_64.PyDBFrame.trace_dispatch\u001B[39m\u001B[34m()\u001B[39m\n",
      "\u001B[36mFile \u001B[39m\u001B[32m_pydevd_bundle\\\\pydevd_cython_win32_312_64.pyx:937\u001B[39m, in \u001B[36m_pydevd_bundle.pydevd_cython_win32_312_64.PyDBFrame.trace_dispatch\u001B[39m\u001B[34m()\u001B[39m\n",
      "\u001B[36mFile \u001B[39m\u001B[32m_pydevd_bundle\\\\pydevd_cython_win32_312_64.pyx:928\u001B[39m, in \u001B[36m_pydevd_bundle.pydevd_cython_win32_312_64.PyDBFrame.trace_dispatch\u001B[39m\u001B[34m()\u001B[39m\n",
      "\u001B[36mFile \u001B[39m\u001B[32m_pydevd_bundle\\\\pydevd_cython_win32_312_64.pyx:585\u001B[39m, in \u001B[36m_pydevd_bundle.pydevd_cython_win32_312_64.PyDBFrame.do_wait_suspend\u001B[39m\u001B[34m()\u001B[39m\n",
      "\u001B[36mFile \u001B[39m\u001B[32m~\\AppData\\Local\\Programs\\PyCharm Professional\\plugins\\python-ce\\helpers\\pydev\\pydevd.py:1220\u001B[39m, in \u001B[36mPyDB.do_wait_suspend\u001B[39m\u001B[34m(self, thread, frame, event, arg, send_suspend_message, is_unhandled_exception)\u001B[39m\n\u001B[32m   1217\u001B[39m         from_this_thread.append(frame_id)\n\u001B[32m   1219\u001B[39m \u001B[38;5;28;01mwith\u001B[39;00m \u001B[38;5;28mself\u001B[39m._threads_suspended_single_notification.notify_thread_suspended(thread_id, stop_reason):\n\u001B[32m-> \u001B[39m\u001B[32m1220\u001B[39m     \u001B[38;5;28;43mself\u001B[39;49m\u001B[43m.\u001B[49m\u001B[43m_do_wait_suspend\u001B[49m\u001B[43m(\u001B[49m\u001B[43mthread\u001B[49m\u001B[43m,\u001B[49m\u001B[43m \u001B[49m\u001B[43mframe\u001B[49m\u001B[43m,\u001B[49m\u001B[43m \u001B[49m\u001B[43mevent\u001B[49m\u001B[43m,\u001B[49m\u001B[43m \u001B[49m\u001B[43marg\u001B[49m\u001B[43m,\u001B[49m\u001B[43m \u001B[49m\u001B[43msuspend_type\u001B[49m\u001B[43m,\u001B[49m\u001B[43m \u001B[49m\u001B[43mfrom_this_thread\u001B[49m\u001B[43m)\u001B[49m\n",
      "\u001B[36mFile \u001B[39m\u001B[32m~\\AppData\\Local\\Programs\\PyCharm Professional\\plugins\\python-ce\\helpers\\pydev\\pydevd.py:1235\u001B[39m, in \u001B[36mPyDB._do_wait_suspend\u001B[39m\u001B[34m(self, thread, frame, event, arg, suspend_type, from_this_thread)\u001B[39m\n\u001B[32m   1232\u001B[39m             \u001B[38;5;28mself\u001B[39m._call_mpl_hook()\n\u001B[32m   1234\u001B[39m         \u001B[38;5;28mself\u001B[39m.process_internal_commands()\n\u001B[32m-> \u001B[39m\u001B[32m1235\u001B[39m         \u001B[43mtime\u001B[49m\u001B[43m.\u001B[49m\u001B[43msleep\u001B[49m\u001B[43m(\u001B[49m\u001B[32;43m0.01\u001B[39;49m\u001B[43m)\u001B[49m\n\u001B[32m   1237\u001B[39m \u001B[38;5;28mself\u001B[39m.cancel_async_evaluation(get_current_thread_id(thread), \u001B[38;5;28mstr\u001B[39m(\u001B[38;5;28mid\u001B[39m(frame)))\n\u001B[32m   1239\u001B[39m \u001B[38;5;66;03m# process any stepping instructions\u001B[39;00m\n",
      "\u001B[31mKeyboardInterrupt\u001B[39m: "
     ]
    }
   ],
   "execution_count": 2
  },
  {
   "cell_type": "code",
   "outputs": [],
   "source": [],
   "metadata": {
    "collapsed": false
   },
   "id": "ec8f00ca1e47edd0",
   "execution_count": null
  },
  {
   "cell_type": "code",
   "outputs": [],
   "source": [],
   "metadata": {
    "collapsed": false
   },
   "id": "bda92795f102deda",
   "execution_count": null
  }
 ],
 "metadata": {
  "kernelspec": {
   "display_name": "Python 3",
   "language": "python",
   "name": "python3"
  },
  "language_info": {
   "codemirror_mode": {
    "name": "ipython",
    "version": 2
   },
   "file_extension": ".py",
   "mimetype": "text/x-python",
   "name": "python",
   "nbconvert_exporter": "python",
   "pygments_lexer": "ipython2",
   "version": "2.7.6"
  }
 },
 "nbformat": 4,
 "nbformat_minor": 5
}
