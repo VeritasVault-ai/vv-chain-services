{
 "cells": [
  {
   "cell_type": "code",
   "id": "initial_id",
   "metadata": {
    "collapsed": true,
    "jupyter": {
     "is_executing": true
    },
    "ExecuteTime": {
     "start_time": "2025-05-11T17:03:34.147631Z"
    }
   },
   "source": [
    "import numpy as np\n",
    "import pandas as pd\n",
    "import yfinance as yf\n",
    "from pypfopt.black_litterman import BlackLittermanModel, market_implied_risk_aversion\n",
    "from pypfopt import risk_models, expected_returns\n",
    "from pypfopt.efficient_frontier import EfficientFrontier\n",
    "import matplotlib.pyplot as plt\n",
    "\n",
    "# Load sample data\n",
    "tickers = [\"AAPL\", \"MSFT\", \"GOOG\", \"AMZN\"]\n",
    "data = yf.download(tickers, start=\"2020-01-01\", end=\"2024-01-01\")['Close']\n",
    "\n",
    "# Calculate historical returns and covariance\n",
    "mu = expected_returns.mean_historical_return(data)\n",
    "S = risk_models.sample_cov(data)\n",
    "\n",
    "# Step 1: Compute equilibrium market returns (CAPM-implied)\n",
    "market_caps = np.array([2.5e12, 2.3e12, 1.5e12, 1.8e12])  # Example market caps\n",
    "mcaps_series = pd.Series(market_caps, index=tickers)\n",
    "delta = market_implied_risk_aversion(data.iloc[-1])  # ~2.5–3 by default\n",
    "prior = delta * S @ mcaps_series / mcaps_series.sum()\n",
    "\n",
    "# Step 2: Create non-ML views (simple momentum + valuation signals)\n",
    "momentum = data.pct_change(90).iloc[-1]  # 3-month momentum\n",
    "valuation = 1 / mu  # crude valuation proxy: inverse historical return\n",
    "\n",
    "# Combine into views\n",
    "views = 0.5 * momentum + 0.5 * valuation\n",
    "views = views / np.linalg.norm(views) * 0.05  # scale to ~5% target return\n",
    "\n",
    "# Create uncertainty (more signal → lower variance)\n",
    "confidence = np.abs(views) / views.abs().max()\n",
    "omega = np.diag((1 - confidence + 0.05))  # add small floor for stability\n",
    "\n",
    "# Step 3: Apply Black-Litterman model\n",
    "bl = BlackLittermanModel(S, pi=prior, absolute_views=views, omega=omega)\n",
    "bl_return = bl.bl_returns()\n",
    "bl_cov = bl.bl_cov()\n",
    "\n",
    "# Step 4: Get portfolio weights\n",
    "ef = EfficientFrontier(bl_return, bl_cov)\n",
    "weights = ef.max_sharpe()\n",
    "cleaned_weights = ef.clean_weights()\n",
    "\n",
    "print(\"\\nOptimal Weights (Black-Litterman):\")\n",
    "print(cleaned_weights)\n",
    "\n",
    "# Plot portfolio allocation\n",
    "plt.bar(cleaned_weights.keys(), cleaned_weights.values())\n",
    "plt.title(\"Black-Litterman Optimal Portfolio\")\n",
    "plt.ylabel(\"Weight\")\n",
    "plt.show()\n"
   ],
   "outputs": [
    {
     "name": "stderr",
     "output_type": "stream",
     "text": [
      "[*********************100%***********************]  4 of 4 completed\n"
     ]
    }
   ],
   "execution_count": null
  },
  {
   "cell_type": "code",
   "outputs": [],
   "source": [],
   "metadata": {
    "collapsed": false
   },
   "id": "ec8f00ca1e47edd0",
   "execution_count": null
  },
  {
   "cell_type": "code",
   "outputs": [],
   "source": [],
   "metadata": {
    "collapsed": false
   },
   "id": "bda92795f102deda",
   "execution_count": null
  }
 ],
 "metadata": {
  "kernelspec": {
   "display_name": "Python 3",
   "language": "python",
   "name": "python3"
  },
  "language_info": {
   "codemirror_mode": {
    "name": "ipython",
    "version": 2
   },
   "file_extension": ".py",
   "mimetype": "text/x-python",
   "name": "python",
   "nbconvert_exporter": "python",
   "pygments_lexer": "ipython2",
   "version": "2.7.6"
  }
 },
 "nbformat": 4,
 "nbformat_minor": 5
}
